{
 "cells": [
  {
   "cell_type": "code",
   "execution_count": 69,
   "metadata": {},
   "outputs": [
    {
     "name": "stdout",
     "output_type": "stream",
     "text": [
      "https://search.naver.com/search.naver?where=news&query=우마무스메\n"
     ]
    }
   ],
   "source": [
    "from selenium import webdriver\n",
    "from selenium.webdriver.chrome.options import Options\n",
    "import time\n",
    "\n",
    "user_agent = \"Mozilla/5.0 (Windows NT 10.0; WOW64) AppleWebKit/537.36 (KHTML, like Gecko) Chrome/109.0.0.0 Safari/537.36\"\n",
    "\n",
    "chrome_options = Options()\n",
    "chrome_options.add_argument(\"--headless=new\")\n",
    "chrome_options.add_argument(f\"--user-agnet={user_agent}\")\n",
    "\n",
    "browser = webdriver.Chrome(options=chrome_options)\n",
    "\n",
    "## query\n",
    "search_keyword = \"우마무스메\"\n",
    "url = f\"https://search.naver.com/search.naver?where=news&query={search_keyword}\"\n",
    "\n",
    "print(url)\n",
    "\n",
    "browser.get(url)\n",
    "time.sleep(5)\n",
    "\n",
    "browser.maximize_window()\n",
    "browser.save_screenshot(\"image.png\")\n",
    "page_source = browser.page_source\n",
    "\n",
    "browser.quit()"
   ]
  },
  {
   "cell_type": "code",
   "execution_count": 70,
   "metadata": {},
   "outputs": [
    {
     "name": "stdout",
     "output_type": "stream",
     "text": [
      "<a class=\"news_tit\" href=\"http://www.newsworker.co.kr/news/articleView.html?idxno=364334\" onclick=\"return goOtherCR(this, 'a=nws*f.tit&amp;r=15&amp;i=8817ca78_000000000000000000248399&amp;g=5521.0000248399&amp;u='+urlencode(this.href));\" target=\"_blank\" title=\"카카오게임즈, '우마무스메 프리티 더비' 신규 의상 '에어사커' 및 '심볼리 크리스 에스' 공개\">카카오게임즈, '<mark>우마무스메</mark> 프리티 더비' 신규 의상 '에어사커' 및 '심볼...</a>\n"
     ]
    }
   ],
   "source": [
    "print(title)"
   ]
  },
  {
   "cell_type": "code",
   "execution_count": 71,
   "metadata": {},
   "outputs": [
    {
     "name": "stdout",
     "output_type": "stream",
     "text": [
      "1. 요지부동 모바일게임 매출 순위... '우마무스메' '명일방주' 등 업데이트... 🔗 http://gamefocus.co.kr/detail.php?number=163988\n",
      " 꾸준히 순위가 높게 나오는 MMORPG와 SLG, 퍼즐 및 캐주얼 외에는 '젠레스 존 제로', '우마무스메 프리티 더비', '명일방주' 등 업데이트가 이루어지면서... 특히 '젠레스 존 제로'(11위), '승리의 여신: 니케'(13위), '우마무스메 프리티 더비'(17위) 등 서브컬처 게임들의 상승세가 돋보인다. 초반 가파른 흥행세를...\n",
      "\n",
      "2. 카카오게임즈 ‘우마무스메’, 가을 축제 의상 신규 캐릭터 등장 🔗 https://www.mk.co.kr/article/11243086\n",
      " 카카오게임즈(대표 한상우)는 17일 사이게임즈(대표 와타나베 코이치)가 개발한 ‘우마무스메 프리티 더비’에 신규 의상 육성 우마무스메와 스토리 이벤트를 업데이트했다. 이번 업데이트에서는 새로운 의상의 ‘무사 요조숙녀 카와카미 프린세스’와 ‘자색 구름의 나비 토카이 테이오’를 공개했다....\n",
      "\n",
      "3. [우마무스메:프리티 더비] 역대급 할인가 제공, '사이게임즈' 2월 할인 ... 🔗 http://www.inven.co.kr/webzine/news/?news=303493&site=uma\n",
      " 이번 할인 이벤트에서는 ‘Granblue Fantasy Versus: Rising’, ‘우마무스메 프리티 더비 열혈 우당탕탕 대감사제!’를 역대 최고 할인가로 구매할 수 있다. 아울러 사이게임즈의 콘솔 타이틀 ‘리틀 노아: 낙원의 후계자’, ‘Wondership Q’까지 총 네 타이틀을 최대 70% 할인된...\n",
      "\n",
      "4. 우마무스메, 육성 시나리오 '트윙클 레전드' 체험기 🔗 http://www.gamevu.co.kr/news/articleView.html?idxno=39153\n",
      " 사이게임즈에서 개발하고, 한국에서는 카카오게임즈가 서비스하는 모바일 게임 '우마무스메 프리티 더비'가 지난 2월 24일 일본 서비스 4주년을 맞이했다. 신규 육성 우마무스메와 새로운 기능 구현, 그 외 다양한 기념 캠페인 등이 진행되는데 가장 큰 특징은 역시 신규 육성 시나리오 '더 트윙클 레전드(The...\n",
      "\n",
      "5. 우마무스메 희소식, 4주년 '자동 육성' 나온다 🔗 https://www.gameple.co.kr/news/articleView.html?idxno=211848\n",
      " 사이게임즈가 '우마무스메 프리티 더비' 4주년 기념으로 실시한 제50회 파카라이브에서 새로운 콘텐츠와 신규 캐릭터가 공개됐다. 모두 굵직한 발표로 호응을 얻었고, 그중에서도 자동 육성 시스템이 24일부터 추가되어 주목을 받는다. '우마무스메'는 모바일 게임 중에서 일일 플레이 타임이 긴 축에 속했다....\n",
      "\n",
      "6. [#게임스테이션] '패스 오브 엑자일' PC방 랜파티·'우마무스메' 업뎃·... 🔗 https://www.newsworks.co.kr/news/articleView.html?idxno=784844\n",
      " 카카오게임즈가 '패스 오브 엑자일 2'의 파트너 스트리머 PC방 랜파티를 성황리에 마무리했고 '우마무스메 프리티 더비'에 신규 의상 육성 우마무스메와 스토리 이벤트를 업데이트했다. 네오위즈의 '피망 쇼다운 홀덤'이 제2회 PFGT X 피망 쇼다운 홀덤 토너먼트의 새틀라이트를 진행하고 쿡앱스가 2025년...\n",
      "\n",
      "7. 카카오게임즈, '우마무스메' 새 의상 육성 캐릭터 2종 공개 🔗 http://www.greenpostkorea.co.kr/news/articleView.html?idxno=224192\n",
      " '우마무스메 프리티 더비'의 새 의상 육성 캐릭터 카와카미 프린세스와 토카이 테이오 등장 화면,/카카오게임즈 제공 카카오게임즈는 '우마무스메 프리티 더비'의 갱신(업데이트)으로 새 의상 육성 캐릭터(우마무스메) '[무사 요조숙녀] 카와카미 프린세스'와 '[자색 구름의 나비] 토카이 테이오'를 공개했다고...\n",
      "\n",
      "8. [게임소식] 호요버스 '붕괴: 스타레일', 3.1 버전 업데이트 예고 외 🔗 https://sports.hankooki.com/news/articleView.html?idxno=6889738\n",
      " ⓒ카카오게임즈 카카오게임즈는 '우마무스메 프리티 더비'에 신규 의상 육성 우마무스메와 스토리 이벤트를 업데이트했다. 이번 업데이트에서는 새로운 의상의 '[무사 요조숙녀] 카와카미 프린세스'와 '[자색 구름의 나비] 토카이 테이오'를 공개했다. 이들은 스토리 이벤트 '한적한 가을, 엮이는 추억'에...\n",
      "\n",
      "9. [TOP's Pick] [게임] 넷마블 '메타버스엔터', 신규 버추얼 아이돌 공개 外 🔗 https://www.topdaily.kr/articles/101457\n",
      " 한 줄 코멘트 → 프리즈 브이, 버튜버 5인(구슬요, 따린, 모라라, 엘시, 해리)으로 구성 ◆카카오게임즈, 인기 게임 '우마무스메' 신규 의상 업데이트 카카오게임즈가 자사가 서비스 중인 인기 게임 '우마무스메 프리티 더비(이하 우마무스메)'에 신규 의상 육성 우마무스메와 스토리 이벤트를 업데이트함....\n",
      "\n",
      "10. 카카오게임즈, '우마무스메 프리티 더비' 신규 의상 '에어사커' 및 '심볼... 🔗 http://www.newsworker.co.kr/news/articleView.html?idxno=364334\n",
      " ㈜카카오게임즈(대표 한상우)는 17일, ㈜사이게임즈(대표 와타나베 코이치)가 개발한 '우마무스메 프리티 더비'에 신규 의상 육성 우마무스메와 스토리 이벤트를 업데이트했다. 먼저 새로운 의상의 육성 우마무스메 '[Belphegor's Prime] 에어 샤커'와 '[Jetblack Automaton] 심볼리 크리스 에스'를 공개했다....\n",
      "\n"
     ]
    },
    {
     "data": {
      "text/plain": [
       "' for idx, article in enumerate(articles, 1):\\n    title = article.get_text()\\n    link = article[\"href\"]\\n    print(f\"{idx}. {title}\\n   🔗 {link}\") '"
      ]
     },
     "execution_count": 71,
     "metadata": {},
     "output_type": "execute_result"
    }
   ],
   "source": [
    "from bs4 import BeautifulSoup\n",
    "\n",
    "soup = BeautifulSoup(page_source, \"html.parser\")\n",
    "contents = soup.select(\".news_contents\")\n",
    "\n",
    "# print(contents)\n",
    "\n",
    "for idx, content in enumerate(contents, 1):\n",
    "    title = content.select_one(\".news_tit\")\n",
    "    link = title[\"href\"]\n",
    "\n",
    "    description = content.select_one(\".dsc_txt_wrap\")\n",
    "\n",
    "    print(f\"{idx}. {title.get_text()} 🔗 {link}\\n {description.get_text()}\\n\")\n",
    "\n",
    "\n",
    "\"\"\" for idx, article in enumerate(articles, 1):\n",
    "    title = article.get_text()\n",
    "    link = article[\"href\"]\n",
    "    print(f\"{idx}. {title}\\n   🔗 {link}\") \"\"\""
   ]
  }
 ],
 "metadata": {
  "kernelspec": {
   "display_name": "env",
   "language": "python",
   "name": "python3"
  },
  "language_info": {
   "codemirror_mode": {
    "name": "ipython",
    "version": 3
   },
   "file_extension": ".py",
   "mimetype": "text/x-python",
   "name": "python",
   "nbconvert_exporter": "python",
   "pygments_lexer": "ipython3",
   "version": "3.12.2"
  }
 },
 "nbformat": 4,
 "nbformat_minor": 2
}
