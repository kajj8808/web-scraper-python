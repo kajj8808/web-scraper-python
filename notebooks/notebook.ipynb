{
 "cells": [
  {
   "cell_type": "code",
   "execution_count": 54,
   "metadata": {},
   "outputs": [],
   "source": [
    "from selenium import webdriver\n",
    "from selenium.webdriver.chrome.options import Options\n",
    "import time\n",
    "\n",
    "user_agent = \"Mozilla/5.0 (Windows NT 10.0; WOW64) AppleWebKit/537.36 (KHTML, like Gecko) Chrome/109.0.0.0 Safari/537.36\"\n",
    "\n",
    "chrome_options = Options()\n",
    "chrome_options.add_argument(\"--headless=new\")\n",
    "chrome_options.add_argument(f\"--user-agnet={user_agent}\")\n",
    "\n",
    "browser = webdriver.Chrome(options=chrome_options)\n",
    "\n",
    "## query\n",
    "search_keyword = \"우마무스메\"\n",
    "url = f\"https://search.naver.com/search.naver?where=news&query={search_keyword}\"\n",
    "\n",
    "print(url)\n",
    "\n",
    "browser.get(url)\n",
    "time.sleep(5)\n",
    "\n",
    "browser.maximize_window()\n",
    "browser.save_screenshot(\"image.png\")\n",
    "page_source = browser.page_source\n",
    "\n",
    "browser.quit()"
   ]
  },
  {
   "cell_type": "code",
   "execution_count": 55,
   "metadata": {},
   "outputs": [
    {
     "name": "stdout",
     "output_type": "stream",
     "text": [
      "우마무스메 : 네이버 뉴스검색\n"
     ]
    }
   ],
   "source": [
    "print(title)"
   ]
  },
  {
   "cell_type": "code",
   "execution_count": 62,
   "metadata": {},
   "outputs": [
    {
     "name": "stdout",
     "output_type": "stream",
     "text": [
      "[]\n"
     ]
    },
    {
     "name": "stderr",
     "output_type": "stream",
     "text": [
      "/var/folders/5h/kzl33w097wldxrgb1rywwpqm0000gn/T/ipykernel_90344/2629338144.py:5: DeprecationWarning: Call to deprecated method findAll. (Replaced by find_all) -- Deprecated since version 4.0.0.\n",
      "  news = soup.findAll(\"select>div>.news_tit\")\n"
     ]
    }
   ],
   "source": [
    "from bs4 import BeautifulSoup\n",
    "\n",
    "soup = BeautifulSoup(page_source, \"html.parser\")\n",
    "contents = soup.select(\".news_contents\")\n",
    "\n",
    "# print(contents)\n",
    "\n",
    "for idx, content in enumerate(contents, 1):\n",
    "    title = content.select_one(\".news_tit\")\n",
    "    link = title[\"href\"]\n",
    "\n",
    "    description = content.select_one(\".dsc_txt_wrap\")\n",
    "\n",
    "    print(f\"{idx}. {title.get_text()} 🔗 {link}\\n {description.get_text()}\\n\")\n",
    "\n",
    "\n",
    "\"\"\" for idx, article in enumerate(articles, 1):\n",
    "    title = article.get_text()\n",
    "    link = article[\"href\"]\n",
    "    print(f\"{idx}. {title}\\n   🔗 {link}\") \"\"\""
   ]
  }
 ],
 "metadata": {
  "kernelspec": {
   "display_name": "env",
   "language": "python",
   "name": "python3"
  },
  "language_info": {
   "codemirror_mode": {
    "name": "ipython",
    "version": 3
   },
   "file_extension": ".py",
   "mimetype": "text/x-python",
   "name": "python",
   "nbconvert_exporter": "python",
   "pygments_lexer": "ipython3",
   "version": "3.12.2"
  }
 },
 "nbformat": 4,
 "nbformat_minor": 2
}
